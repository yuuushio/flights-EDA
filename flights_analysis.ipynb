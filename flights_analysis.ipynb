{
 "cells": [
  {
   "cell_type": "code",
   "execution_count": 7,
   "id": "4f26de37",
   "metadata": {},
   "outputs": [],
   "source": [
    "from pyspark import SparkContext\n",
    "from pyspark.sql import *\n",
    "from pyspark.sql.functions import *\n",
    "from pyspark.sql.functions import year as pyspark_yr\n",
    "from pyspark.sql.types import *\n",
    "from pyspark.sql.window import *\n",
    "from operator import itemgetter"
   ]
  },
  {
   "cell_type": "code",
   "execution_count": 8,
   "id": "ee818d31",
   "metadata": {},
   "outputs": [],
   "source": [
    "spark = SparkSession.builder.appName(\"top_3\").getOrCreate()"
   ]
  },
  {
   "cell_type": "code",
   "execution_count": 9,
   "id": "f64c3807",
   "metadata": {},
   "outputs": [
    {
     "name": "stdout",
     "output_type": "stream",
     "text": [
      "+-------+----+------------+----------+-----+------+-------------+-----------+----+\n",
      "|tailnum|type|manufacturer|issue_date|model|status|aircraft_type|engine_type|year|\n",
      "+-------+----+------------+----------+-----+------+-------------+-----------+----+\n",
      "| N050AA|null|        null|      null| null|  null|         null|       null|null|\n",
      "| N051AA|null|        null|      null| null|  null|         null|       null|null|\n",
      "| N052AA|null|        null|      null| null|  null|         null|       null|null|\n",
      "+-------+----+------------+----------+-----+------+-------------+-----------+----+\n",
      "only showing top 3 rows\n",
      "\n",
      "+--------------------+---------------------+\n",
      "|        manufacturer|collect_list(tailnum)|\n",
      "+--------------------+---------------------+\n",
      "|      FRIEDEMANN JON|             [N544AA]|\n",
      "|               HELIO|             [N550AA]|\n",
      "|    AIRBUS INDUSTRIE| [N102UW, N103US, ...|\n",
      "|   FREDERICK CHRIS K|             [N509AA]|\n",
      "|MCDONNELL DOUGLAS...| [N900DE, N901DE, ...|\n",
      "|             AERONCA|             [N9149E]|\n",
      "|BOEING OF CANADA LTD|             [N805LR]|\n",
      "|          AGUSTA SPA|             [N365AA]|\n",
      "|                null| [N050AA, N051AA, ...|\n",
      "|            SIKORSKY| [N343AA, N347AA, ...|\n",
      "|              BOEING| [N10323, N104UA, ...|\n",
      "|        STINNETT RON|             [N547AA]|\n",
      "|             EMBRAER| [N10156, N10575, ...|\n",
      "|             DOUGLAS| [N1309T, N1334U, ...|\n",
      "|          MARZ BARRY|             [N557AA]|\n",
      "|              CESSNA| [N201AA, N202AA, ...|\n",
      "| AEROSPATIALE/ALENIA| [N630AS, N631AS, ...|\n",
      "|      BOMBARDIER INC| [N17275, N17337, ...|\n",
      "|               PIPER| [N350AA, N376AA, ...|\n",
      "|                BELL|             [N508AA]|\n",
      "+--------------------+---------------------+\n",
      "only showing top 20 rows\n",
      "\n"
     ]
    },
    {
     "data": {
      "text/plain": [
       "[('tailnum', 'string'),\n",
       " ('type', 'string'),\n",
       " ('manufacturer', 'string'),\n",
       " ('issue_date', 'string'),\n",
       " ('model', 'string'),\n",
       " ('status', 'string'),\n",
       " ('aircraft_type', 'string'),\n",
       " ('engine_type', 'string'),\n",
       " ('year', 'string')]"
      ]
     },
     "execution_count": 9,
     "metadata": {},
     "output_type": "execute_result"
    }
   ],
   "source": [
    "# Read files\n",
    "aircrafts = spark.read.csv(\"ontimeperformance_aircrafts.csv\", inferSchema=True,header=True)\n",
    "aircrafts.show(3)\n",
    "aircrafts.groupBy(\"manufacturer\").agg(collect_list(\"tailnum\")).show()\n",
    "aircrafts.dtypes"
   ]
  },
  {
   "cell_type": "code",
   "execution_count": 10,
   "id": "b97a001b",
   "metadata": {},
   "outputs": [
    {
     "name": "stdout",
     "output_type": "stream",
     "text": [
      "545\n"
     ]
    },
    {
     "data": {
      "text/plain": [
       "[('carrier_code', 'string'), ('name', 'string'), ('country', 'string')]"
      ]
     },
     "execution_count": 10,
     "metadata": {},
     "output_type": "execute_result"
    }
   ],
   "source": [
    "airlines = spark.read.csv(\"ontimeperformance_airlines.csv\", inferSchema=True,header=True)\n",
    "print(airlines.count())\n",
    "airlines.dtypes"
   ]
  },
  {
   "cell_type": "code",
   "execution_count": 11,
   "id": "1c5e6904",
   "metadata": {},
   "outputs": [
    {
     "name": "stdout",
     "output_type": "stream",
     "text": [
      "+--------------------+-----+\n",
      "|                city|count|\n",
      "+--------------------+-----+\n",
      "|          Prattville|    1|\n",
      "|            Bluffton|    1|\n",
      "|         Middlefield|    1|\n",
      "|              Aitkin|    1|\n",
      "|           Birchwood|    1|\n",
      "|      Douglas Bisbee|    1|\n",
      "|           Fairbanks|    1|\n",
      "|Indianapolis/Gree...|    1|\n",
      "|               Kiana|    1|\n",
      "|           Worcester|    1|\n",
      "|         Santa Paula|    1|\n",
      "|               Tyler|    1|\n",
      "|        Belle Plaine|    1|\n",
      "|          Charleston|    4|\n",
      "|       Bowling Green|    3|\n",
      "|          Deer Lodge|    1|\n",
      "|         Springfield|    8|\n",
      "|              Corona|    1|\n",
      "|          Harrisburg|    3|\n",
      "|             Cordell|    1|\n",
      "+--------------------+-----+\n",
      "only showing top 20 rows\n",
      "\n"
     ]
    },
    {
     "data": {
      "text/plain": [
       "[('airport_code', 'string'),\n",
       " ('airport_name', 'string'),\n",
       " ('city', 'string'),\n",
       " ('state', 'string'),\n",
       " ('country', 'string'),\n",
       " ('lat', 'double'),\n",
       " ('long', 'double')]"
      ]
     },
     "execution_count": 11,
     "metadata": {},
     "output_type": "execute_result"
    }
   ],
   "source": [
    "airports = spark.read.csv(\"ontimeperformance_airports.csv\", inferSchema=True, header=True)\n",
    "airports.groupBy(\"city\").count().show()\n",
    "airports.dtypes"
   ]
  },
  {
   "cell_type": "code",
   "execution_count": 12,
   "id": "88589419",
   "metadata": {},
   "outputs": [
    {
     "name": "stderr",
     "output_type": "stream",
     "text": [
      "[Stage 24:>                                                       (0 + 16) / 16]\r"
     ]
    },
    {
     "name": "stdout",
     "output_type": "stream",
     "text": [
      "3272629\n"
     ]
    },
    {
     "name": "stderr",
     "output_type": "stream",
     "text": [
      "                                                                                \r"
     ]
    },
    {
     "data": {
      "text/plain": [
       "[('flight_id', 'int'),\n",
       " ('carrier_code', 'string'),\n",
       " ('flight_number', 'int'),\n",
       " ('flight_date', 'timestamp'),\n",
       " ('origin', 'string'),\n",
       " ('destination', 'string'),\n",
       " ('tail_number', 'string'),\n",
       " ('scheduled_depature_time', 'string'),\n",
       " ('scheduled_arrival_time', 'string'),\n",
       " ('actual_departure_time', 'string'),\n",
       " ('actual_arrival_time', 'string'),\n",
       " ('distance', 'int')]"
      ]
     },
     "execution_count": 12,
     "metadata": {},
     "output_type": "execute_result"
    }
   ],
   "source": [
    "flights = spark.read.csv(\"ontimeperformance_flights_medium.csv\", inferSchema=True, header=True)\n",
    "print(flights.count())\n",
    "flights.dtypes"
   ]
  },
  {
   "cell_type": "markdown",
   "id": "5c2a41ff",
   "metadata": {},
   "source": [
    "### Filter Nulls"
   ]
  },
  {
   "cell_type": "code",
   "execution_count": 13,
   "id": "13b60b77",
   "metadata": {},
   "outputs": [],
   "source": [
    "aircrafts = aircrafts.filter((col(\"model\").isNotNull()) & (~isnan(col(\"model\")))).cache()"
   ]
  },
  {
   "cell_type": "code",
   "execution_count": 14,
   "id": "012fcbc2",
   "metadata": {},
   "outputs": [
    {
     "data": {
      "text/plain": [
       "DataFrame[carrier_code: string, name: string, country: string]"
      ]
     },
     "execution_count": 14,
     "metadata": {},
     "output_type": "execute_result"
    }
   ],
   "source": [
    "airlines = airlines.filter((col(\"carrier_code\").isNotNull()) & (~isnan(col(\"carrier_code\"))))\n",
    "airlines.cache()"
   ]
  },
  {
   "cell_type": "markdown",
   "id": "4278abcf",
   "metadata": {},
   "source": [
    "## Q1"
   ]
  },
  {
   "cell_type": "code",
   "execution_count": 15,
   "id": "b6921a77",
   "metadata": {},
   "outputs": [
    {
     "name": "stdout",
     "output_type": "stream",
     "text": [
      "+-------+----------+------------+----------+\n",
      "|tailnum|     model|manufacturer|model_name|\n",
      "+-------+----------+------------+----------+\n",
      "| N201AA|       150|      CESSNA|       150|\n",
      "| N202AA|      421C|      CESSNA|       421|\n",
      "|   N293|     T337G|      CESSNA|       337|\n",
      "| N3744D|      182A|      CESSNA|       182|\n",
      "| N378AA|      172E|      CESSNA|       172|\n",
      "| N421AA|      421C|      CESSNA|       421|\n",
      "| N444AA|      182P|      CESSNA|       182|\n",
      "| N474AA|      172M|      CESSNA|       172|\n",
      "| N510AA|     T210N|      CESSNA|       210|\n",
      "| N519AA|       550|      CESSNA|       550|\n",
      "| N575AA|210-5(205)|      CESSNA|       210|\n",
      "| N621AA|      172M|      CESSNA|       172|\n",
      "+-------+----------+------------+----------+\n",
      "\n"
     ]
    }
   ],
   "source": [
    "cess_models = aircrafts.filter(aircrafts.manufacturer == \"CESSNA\").select(\"tailnum\", \"model\", \"manufacturer\")\n",
    "cess_models = cess_models.withColumn(\"model_name\", regexp_extract(cess_models[\"model\"], '\\d{3}', 0))\n",
    "cess_models.cache()\n",
    "cess_models.show()"
   ]
  },
  {
   "cell_type": "code",
   "execution_count": 16,
   "id": "f7a6188a",
   "metadata": {},
   "outputs": [
    {
     "name": "stderr",
     "output_type": "stream",
     "text": [
      "[Stage 28:======================================>                 (11 + 5) / 16]\r"
     ]
    },
    {
     "name": "stdout",
     "output_type": "stream",
     "text": [
      "+-----------+-----+\n",
      "|tail_number|count|\n",
      "+-----------+-----+\n",
      "|     N240AU|  103|\n",
      "|     N407AA| 1078|\n",
      "|     N385US|  138|\n",
      "|     N411US|   89|\n",
      "|     N502AU|   16|\n",
      "+-----------+-----+\n",
      "only showing top 5 rows\n",
      "\n"
     ]
    },
    {
     "name": "stderr",
     "output_type": "stream",
     "text": [
      "                                                                                \r"
     ]
    }
   ],
   "source": [
    "flights_by_tailnum = flights.select(\"tail_number\").groupBy(\"tail_number\").count()\n",
    "flights_by_tailnum.show(5)"
   ]
  },
  {
   "cell_type": "code",
   "execution_count": 17,
   "id": "a0a8073a",
   "metadata": {},
   "outputs": [],
   "source": [
    "cess_flights = flights_by_tailnum.join(broadcast(cess_models), flights_by_tailnum.tail_number == cess_models.tailnum, \"right\")"
   ]
  },
  {
   "cell_type": "code",
   "execution_count": 18,
   "id": "517c6c5d",
   "metadata": {},
   "outputs": [
    {
     "name": "stdout",
     "output_type": "stream",
     "text": [
      "22/11/05 14:39:11 WARN HintErrorLogger: Hint (strategy=broadcast) is not supported in the query: build right for right outer join.\n"
     ]
    },
    {
     "name": "stderr",
     "output_type": "stream",
     "text": [
      "[Stage 31:==>             (2 + 14) / 16][Stage 32:>                 (0 + 1) / 1]\r"
     ]
    },
    {
     "name": "stdout",
     "output_type": "stream",
     "text": [
      "22/11/05 14:39:12 WARN HintErrorLogger: Hint (strategy=broadcast) is not supported in the query: build right for right outer join.\n"
     ]
    },
    {
     "name": "stderr",
     "output_type": "stream",
     "text": [
      "[Stage 31:=====================>                                  (6 + 10) / 16]\r"
     ]
    },
    {
     "name": "stdout",
     "output_type": "stream",
     "text": [
      "22/11/05 14:39:12 WARN HintErrorLogger: Hint (strategy=broadcast) is not supported in the query: build right for right outer join.\n",
      "+-----------+-----+-------+-----+------------+----------+\n",
      "|tail_number|count|tailnum|model|manufacturer|model_name|\n",
      "+-----------+-----+-------+-----+------------+----------+\n",
      "|     N421AA| 1084| N421AA| 421C|      CESSNA|       421|\n",
      "|     N3744D|  298| N3744D| 182A|      CESSNA|       182|\n",
      "|     N378AA|  225| N378AA| 172E|      CESSNA|       172|\n",
      "|     N202AA| 1032| N202AA| 421C|      CESSNA|       421|\n",
      "|     N201AA|  913| N201AA|  150|      CESSNA|       150|\n",
      "+-----------+-----+-------+-----+------------+----------+\n",
      "only showing top 5 rows\n",
      "\n"
     ]
    },
    {
     "name": "stderr",
     "output_type": "stream",
     "text": [
      "                                                                                \r"
     ]
    }
   ],
   "source": [
    "cess_flights.show(5)"
   ]
  },
  {
   "cell_type": "code",
   "execution_count": 19,
   "id": "ce6ae2f3",
   "metadata": {},
   "outputs": [],
   "source": [
    "cess_flights = cess_flights.groupBy(\"model_name\").agg(sum(\"count\").alias(\"num_flights\"))"
   ]
  },
  {
   "cell_type": "code",
   "execution_count": 20,
   "id": "b98be096",
   "metadata": {},
   "outputs": [],
   "source": [
    "top_3_df = cess_flights.orderBy(col(\"num_flights\").desc()).limit(3)"
   ]
  },
  {
   "cell_type": "code",
   "execution_count": 21,
   "id": "8f52ac8c",
   "metadata": {},
   "outputs": [
    {
     "name": "stdout",
     "output_type": "stream",
     "text": [
      "22/11/05 14:39:12 WARN HintErrorLogger: Hint (strategy=broadcast) is not supported in the query: build right for right outer join.\n"
     ]
    },
    {
     "name": "stderr",
     "output_type": "stream",
     "text": [
      "[Stage 37:==>             (2 + 14) / 16][Stage 38:>                 (0 + 1) / 1]\r"
     ]
    },
    {
     "name": "stdout",
     "output_type": "stream",
     "text": [
      "22/11/05 14:39:13 WARN HintErrorLogger: Hint (strategy=broadcast) is not supported in the query: build right for right outer join.\n",
      "22/11/05 14:39:13 WARN HintErrorLogger: Hint (strategy=broadcast) is not supported in the query: build right for right outer join.\n"
     ]
    },
    {
     "name": "stderr",
     "output_type": "stream",
     "text": [
      "                                                                                \r"
     ]
    },
    {
     "name": "stdout",
     "output_type": "stream",
     "text": [
      "+----------+-----------+\n",
      "|model_name|num_flights|\n",
      "+----------+-----------+\n",
      "|       210|       2184|\n",
      "|       421|       2116|\n",
      "|       172|       1689|\n",
      "+----------+-----------+\n",
      "\n"
     ]
    }
   ],
   "source": [
    "top_3_df.show()"
   ]
  },
  {
   "cell_type": "code",
   "execution_count": 22,
   "id": "94e06e4a",
   "metadata": {},
   "outputs": [],
   "source": [
    "def output_top_3(li):\n",
    "    for i in li:\n",
    "        yield f\"CESSNA {i[0]} \\t {i[1]}\""
   ]
  },
  {
   "cell_type": "code",
   "execution_count": 23,
   "id": "9ef5e535",
   "metadata": {},
   "outputs": [
    {
     "name": "stdout",
     "output_type": "stream",
     "text": [
      "22/11/05 14:39:14 WARN HintErrorLogger: Hint (strategy=broadcast) is not supported in the query: build right for right outer join.\n"
     ]
    },
    {
     "name": "stderr",
     "output_type": "stream",
     "text": [
      "[Stage 46:=================================================>      (14 + 2) / 16]\r"
     ]
    },
    {
     "name": "stdout",
     "output_type": "stream",
     "text": [
      "22/11/05 14:39:15 WARN HintErrorLogger: Hint (strategy=broadcast) is not supported in the query: build right for right outer join.\n",
      "22/11/05 14:39:15 WARN HintErrorLogger: Hint (strategy=broadcast) is not supported in the query: build right for right outer join.\n",
      "CESSNA 210 \t 2184\n",
      "CESSNA 421 \t 2116\n",
      "CESSNA 172 \t 1689\n"
     ]
    },
    {
     "name": "stderr",
     "output_type": "stream",
     "text": [
      "                                                                                \r"
     ]
    }
   ],
   "source": [
    "for i in output_top_3(top_3_df.collect()):\n",
    "    print(i)"
   ]
  },
  {
   "cell_type": "markdown",
   "id": "4ed6681e",
   "metadata": {},
   "source": [
    "## Q2 average flight delay"
   ]
  },
  {
   "cell_type": "code",
   "execution_count": 24,
   "id": "b5a1f6ca",
   "metadata": {},
   "outputs": [],
   "source": [
    "provided_year = 1994"
   ]
  },
  {
   "cell_type": "code",
   "execution_count": 25,
   "id": "78ddd669",
   "metadata": {},
   "outputs": [
    {
     "data": {
      "text/plain": [
       "[('flight_id', 'int'),\n",
       " ('carrier_code', 'string'),\n",
       " ('flight_number', 'int'),\n",
       " ('flight_date', 'timestamp'),\n",
       " ('origin', 'string'),\n",
       " ('destination', 'string'),\n",
       " ('tail_number', 'string'),\n",
       " ('scheduled_depature_time', 'string'),\n",
       " ('scheduled_arrival_time', 'string'),\n",
       " ('actual_departure_time', 'string'),\n",
       " ('actual_arrival_time', 'string'),\n",
       " ('distance', 'int')]"
      ]
     },
     "execution_count": 25,
     "metadata": {},
     "output_type": "execute_result"
    }
   ],
   "source": [
    "#flights.select(\"flight_number\").show()\n",
    "flights.dtypes"
   ]
  },
  {
   "cell_type": "code",
   "execution_count": 26,
   "id": "ebc5d7ba",
   "metadata": {},
   "outputs": [],
   "source": [
    "# Filter null flights\n",
    "flights = flights.filter((flights.scheduled_depature_time.isNotNull()) & (~isnan(flights.scheduled_depature_time)))"
   ]
  },
  {
   "cell_type": "code",
   "execution_count": 27,
   "id": "36279a67",
   "metadata": {},
   "outputs": [],
   "source": [
    "flights = flights.filter((flights.actual_departure_time.isNotNull()) & (~isnan(flights.actual_departure_time)))"
   ]
  },
  {
   "cell_type": "code",
   "execution_count": 28,
   "id": "a04e99e8",
   "metadata": {},
   "outputs": [],
   "source": [
    "# cast\n",
    "q2_flights = flights.withColumn(\"flight_date\", col(\"flight_date\").cast(DateType()))"
   ]
  },
  {
   "cell_type": "code",
   "execution_count": 29,
   "id": "74ccc1b4",
   "metadata": {},
   "outputs": [],
   "source": [
    "# filter by year\n",
    "q2_flights = q2_flights.withColumn(\"flight_yr\", pyspark_yr(\"flight_date\"))"
   ]
  },
  {
   "cell_type": "code",
   "execution_count": 30,
   "id": "97b54780",
   "metadata": {},
   "outputs": [
    {
     "data": {
      "text/plain": [
       "[('flight_id', 'int'),\n",
       " ('carrier_code', 'string'),\n",
       " ('flight_number', 'int'),\n",
       " ('flight_date', 'date'),\n",
       " ('origin', 'string'),\n",
       " ('destination', 'string'),\n",
       " ('tail_number', 'string'),\n",
       " ('scheduled_depature_time', 'string'),\n",
       " ('scheduled_arrival_time', 'string'),\n",
       " ('actual_departure_time', 'string'),\n",
       " ('actual_arrival_time', 'string'),\n",
       " ('distance', 'int'),\n",
       " ('flight_yr', 'int')]"
      ]
     },
     "execution_count": 30,
     "metadata": {},
     "output_type": "execute_result"
    }
   ],
   "source": [
    "q2_flights.dtypes"
   ]
  },
  {
   "cell_type": "code",
   "execution_count": 31,
   "id": "71cd522b",
   "metadata": {},
   "outputs": [],
   "source": [
    "q2_flights = q2_flights.filter(col(\"flight_yr\") == provided_year)"
   ]
  },
  {
   "cell_type": "code",
   "execution_count": 32,
   "id": "40856c6b",
   "metadata": {},
   "outputs": [
    {
     "data": {
      "text/plain": [
       "DataFrame[carrier_code: string, flight_date: timestamp, scheduled_depature_time: string, actual_departure_time: string]"
      ]
     },
     "execution_count": 32,
     "metadata": {},
     "output_type": "execute_result"
    }
   ],
   "source": [
    "q2_flights = flights.select(\"carrier_code\", \"flight_date\", \"scheduled_depature_time\", \"actual_departure_time\")\n",
    "q2_flights"
   ]
  },
  {
   "cell_type": "code",
   "execution_count": 33,
   "id": "8bdbe9af",
   "metadata": {},
   "outputs": [
    {
     "name": "stdout",
     "output_type": "stream",
     "text": [
      "+------------+-------------------+-----------------------+---------------------+\n",
      "|carrier_code|        flight_date|scheduled_depature_time|actual_departure_time|\n",
      "+------------+-------------------+-----------------------+---------------------+\n",
      "|          UA|1994-05-10 00:00:00|               20:15:00|             20:14:00|\n",
      "|          UA|1994-05-12 00:00:00|               20:15:00|             20:14:00|\n",
      "|          UA|1994-05-16 00:00:00|               20:15:00|             20:13:00|\n",
      "|          UA|1994-05-17 00:00:00|               20:15:00|             20:14:00|\n",
      "|          UA|1994-05-24 00:00:00|               20:15:00|             20:19:00|\n",
      "+------------+-------------------+-----------------------+---------------------+\n",
      "only showing top 5 rows\n",
      "\n"
     ]
    }
   ],
   "source": [
    "q2_flights.show(5)"
   ]
  },
  {
   "cell_type": "code",
   "execution_count": 34,
   "id": "e3a4a914",
   "metadata": {},
   "outputs": [
    {
     "name": "stdout",
     "output_type": "stream",
     "text": [
      "root\n",
      " |-- carrier_code: string (nullable = true)\n",
      " |-- flight_date: date (nullable = true)\n",
      " |-- scheduled_depature_time: timestamp (nullable = true)\n",
      " |-- actual_departure_time: timestamp (nullable = true)\n",
      "\n"
     ]
    }
   ],
   "source": [
    "q2_flights = q2_flights.withColumn(\"flight_date\", q2_flights.flight_date.cast(DateType()))\n",
    "q2_flights = q2_flights.select(\"carrier_code\", \"flight_date\", \\\n",
    "                               to_timestamp(when(q2_flights.scheduled_depature_time == \"24:00:00\", \"00:00:00\")\\\n",
    "                                            .otherwise(q2_flights.scheduled_depature_time), \"HH:mm:ss\")\\\n",
    "                                               .alias(\"scheduled_depature_time\"),\\\n",
    "                               to_timestamp(when(q2_flights.actual_departure_time == \"24:00:00\", \"00:00:00\")\\\n",
    "                                            .otherwise(q2_flights.actual_departure_time), \"HH:mm:ss\")\\\n",
    "                                               .alias(\"actual_departure_time\")\\\n",
    "                              )\n",
    "q2_flights.printSchema()"
   ]
  },
  {
   "cell_type": "code",
   "execution_count": 35,
   "id": "07886898",
   "metadata": {
    "scrolled": true
   },
   "outputs": [
    {
     "name": "stdout",
     "output_type": "stream",
     "text": [
      "+------------+-----------+-----------------------+---------------------+\n",
      "|carrier_code|flight_date|scheduled_depature_time|actual_departure_time|\n",
      "+------------+-----------+-----------------------+---------------------+\n",
      "|          UA| 1994-05-10|    1970-01-01 20:15:00|  1970-01-01 20:14:00|\n",
      "|          UA| 1994-05-12|    1970-01-01 20:15:00|  1970-01-01 20:14:00|\n",
      "|          UA| 1994-05-16|    1970-01-01 20:15:00|  1970-01-01 20:13:00|\n",
      "|          UA| 1994-05-17|    1970-01-01 20:15:00|  1970-01-01 20:14:00|\n",
      "|          UA| 1994-05-24|    1970-01-01 20:15:00|  1970-01-01 20:19:00|\n",
      "+------------+-----------+-----------------------+---------------------+\n",
      "only showing top 5 rows\n",
      "\n"
     ]
    },
    {
     "data": {
      "text/plain": [
       "[('carrier_code', 'string'),\n",
       " ('flight_date', 'date'),\n",
       " ('scheduled_depature_time', 'timestamp'),\n",
       " ('actual_departure_time', 'timestamp')]"
      ]
     },
     "execution_count": 35,
     "metadata": {},
     "output_type": "execute_result"
    }
   ],
   "source": [
    "q2_flights.show(5)\n",
    "q2_flights.dtypes"
   ]
  },
  {
   "cell_type": "code",
   "execution_count": 36,
   "id": "aaeb5b64",
   "metadata": {},
   "outputs": [],
   "source": [
    "# delay in seconds\n",
    "q2_flights = q2_flights.select(\"carrier_code\", (q2_flights[\"actual_departure_time\"].cast(\"long\") - q2_flights[\"scheduled_depature_time\"].cast(\"long\")).alias(\"delay_mins\"))"
   ]
  },
  {
   "cell_type": "code",
   "execution_count": 37,
   "id": "adde4c4c",
   "metadata": {},
   "outputs": [
    {
     "name": "stdout",
     "output_type": "stream",
     "text": [
      "+------------+----------+\n",
      "|carrier_code|delay_mins|\n",
      "+------------+----------+\n",
      "|          UA|       -60|\n",
      "|          UA|       -60|\n",
      "|          UA|      -120|\n",
      "|          UA|       -60|\n",
      "|          UA|       240|\n",
      "|          UA|      1500|\n",
      "|          UA|       -60|\n",
      "|          UA|       300|\n",
      "|          UA|       120|\n",
      "|          UA|      3300|\n",
      "|          UA|         0|\n",
      "|          UA|         0|\n",
      "|          UA|      -180|\n",
      "|          UA|        60|\n",
      "|          UA|       120|\n",
      "|          UA|        60|\n",
      "|          UA|      -120|\n",
      "|          UA|         0|\n",
      "|          UA|         0|\n",
      "|          UA|       -60|\n",
      "+------------+----------+\n",
      "only showing top 20 rows\n",
      "\n"
     ]
    }
   ],
   "source": [
    "q2_flights.show()"
   ]
  },
  {
   "cell_type": "code",
   "execution_count": 38,
   "id": "99a6ba6d",
   "metadata": {},
   "outputs": [],
   "source": [
    "q2_flights = q2_flights.filter(col(\"delay_mins\") != 0)\\\n",
    "                                .withColumn(\"final_delay\", when(col(\"delay_mins\")/60 <= 12, col(\"delay_mins\"))\\\n",
    "                                   .when(col(\"delay_mins\")/60 < -12, ((24*60) + col(\"delay_mins\")))\\\n",
    "                                   .otherwise(-2))"
   ]
  },
  {
   "cell_type": "code",
   "execution_count": 39,
   "id": "1a6460f4",
   "metadata": {},
   "outputs": [],
   "source": [
    "q2_flights = q2_flights.filter(col(\"final_delay\") > 0).select(\"carrier_code\", \"final_delay\")"
   ]
  },
  {
   "cell_type": "code",
   "execution_count": 40,
   "id": "69e2c1f3",
   "metadata": {},
   "outputs": [],
   "source": [
    "q2_flights = q2_flights.filter(col(\"carrier_code\").isNotNull() & (~isnan(col(\"carrier_code\"))))"
   ]
  },
  {
   "cell_type": "code",
   "execution_count": 41,
   "id": "f48174c5",
   "metadata": {},
   "outputs": [],
   "source": [
    "airlines_filtered = airlines.filter(col(\"carrier_code\").isNotNull() & (~isnan(col(\"carrier_code\"))))\\\n",
    "                                                        .withColumnRenamed(\"carrier_code\", \"al_carrier_code\")"
   ]
  },
  {
   "cell_type": "code",
   "execution_count": 42,
   "id": "e6d54e97",
   "metadata": {},
   "outputs": [],
   "source": [
    "# left join because airlines_df will have carrier codes that are not used in flights\n",
    "flights_w_airlines = q2_flights.join(broadcast(airlines_filtered), q2_flights.carrier_code == airlines_filtered.al_carrier_code, \"left\")"
   ]
  },
  {
   "cell_type": "code",
   "execution_count": 43,
   "id": "a759c347",
   "metadata": {},
   "outputs": [],
   "source": [
    "flights_w_airlines = flights_w_airlines.select(\"carrier_code\", \"final_delay\", \"name\")"
   ]
  },
  {
   "cell_type": "code",
   "execution_count": 44,
   "id": "023b8495",
   "metadata": {},
   "outputs": [],
   "source": [
    "flights_w_airlines = flights_w_airlines.groupBy(\"name\").agg(count(\"final_delay\").alias(\"num_delays\"),\\\n",
    "                                              round(mean(\"final_delay\"),2).alias(\"avg_delay\"))"
   ]
  },
  {
   "cell_type": "code",
   "execution_count": 45,
   "id": "875bd8cd",
   "metadata": {},
   "outputs": [
    {
     "name": "stderr",
     "output_type": "stream",
     "text": [
      "[Stage 59:====================================================>   (15 + 1) / 16]\r"
     ]
    },
    {
     "name": "stdout",
     "output_type": "stream",
     "text": [
      "+--------------------+----------+---------+\n",
      "|                name|num_delays|avg_delay|\n",
      "+--------------------+----------+---------+\n",
      "|            Tway Air|      5239|   335.78|\n",
      "|     United Airlines|    162142|   278.34|\n",
      "|    Sparrow Aviation|     24470|   331.43|\n",
      "|Southwest Airline...|     39818|    377.6|\n",
      "|Continental Air L...|     77139|   280.22|\n",
      "|Northwest Airline...|     47378|   305.73|\n",
      "|          US Airways|     27254|   279.57|\n",
      "|Alaska Airlines Inc.|      5209|   365.43|\n",
      "|Delta Air Lines Inc.|    159436|   274.32|\n",
      "|American Airlines...|    123019|   275.14|\n",
      "|    Independence Air|      1532|   373.08|\n",
      "|        JetSuite Air|     19996|   304.01|\n",
      "|Skywest Airlines ...|     22974|   320.33|\n",
      "|American Eagle Ai...|     23952|   339.51|\n",
      "|        Air Tanzania|       487|   321.19|\n",
      "|     JetBlue Airways|      7924|   313.83|\n",
      "|             AirTran|     11677|   343.87|\n",
      "|Atlantic Southeas...|     14645|   386.51|\n",
      "|Hawaiian Airlines...|       244|   259.18|\n",
      "|              Comair|      1696|   484.42|\n",
      "+--------------------+----------+---------+\n",
      "only showing top 20 rows\n",
      "\n"
     ]
    },
    {
     "name": "stderr",
     "output_type": "stream",
     "text": [
      "                                                                                \r"
     ]
    }
   ],
   "source": [
    "flights_w_airlines.show()"
   ]
  },
  {
   "cell_type": "code",
   "execution_count": 46,
   "id": "c2e80c5c",
   "metadata": {},
   "outputs": [],
   "source": [
    "def q2_output(li):\n",
    "    # needs to be sorted by airline name (ascending order (a-z))\n",
    "    for i in li:\n",
    "        yield f\"{i[0]} \\t {i[1]} \\t {i[2]}\""
   ]
  },
  {
   "cell_type": "code",
   "execution_count": 47,
   "id": "629f8cd7",
   "metadata": {},
   "outputs": [
    {
     "name": "stderr",
     "output_type": "stream",
     "text": [
      "[Stage 63:====================================================>   (15 + 1) / 16]\r"
     ]
    },
    {
     "name": "stdout",
     "output_type": "stream",
     "text": [
      "Air Tanzania \t 487 \t 321.19\n",
      "AirTran \t 11677 \t 343.87\n",
      "Alaska Airlines Inc. \t 5209 \t 365.43\n",
      "American Airlines Inc. \t 123019 \t 275.14\n",
      "American Eagle Airlines Inc. \t 23952 \t 339.51\n",
      "Atlantic Southeast Airlines \t 14645 \t 386.51\n",
      "Comair \t 1696 \t 484.42\n",
      "Continental Air Lines Inc. \t 77139 \t 280.22\n",
      "Delta Air Lines Inc. \t 159436 \t 274.32\n",
      "Frontier Airlines Inc. \t 7453 \t 323.57\n",
      "Hawaiian Airlines Inc. \t 244 \t 259.18\n",
      "Independence Air \t 1532 \t 373.08\n",
      "JetBlue Airways \t 7924 \t 313.83\n",
      "JetSuite Air \t 19996 \t 304.01\n",
      "Mesa Airlines Inc. \t 3231 \t 378.92\n",
      "Northwest Airlines Inc. \t 47378 \t 305.73\n",
      "PSA Airlines Inc. \t 1696 \t 484.42\n",
      "Pinnacle Airlines Inc. \t 2074 \t 307.03\n",
      "Skywest Airlines Inc. \t 22974 \t 320.33\n",
      "Southwest Airlines Co. \t 39818 \t 377.6\n",
      "Sparrow Aviation \t 24470 \t 331.43\n",
      "Tway Air \t 5239 \t 335.78\n",
      "US Airways \t 27254 \t 279.57\n",
      "United Airlines \t 162142 \t 278.34\n"
     ]
    },
    {
     "name": "stderr",
     "output_type": "stream",
     "text": [
      "                                                                                \r"
     ]
    }
   ],
   "source": [
    "q2_row_li = flights_w_airlines.collect()\n",
    "q2_row_li.sort(key=itemgetter(0))\n",
    "for i in q2_output(q2_row_li):\n",
    "    print(i)"
   ]
  },
  {
   "cell_type": "markdown",
   "id": "50cd31a4",
   "metadata": {},
   "source": [
    "## Q3"
   ]
  },
  {
   "cell_type": "code",
   "execution_count": 48,
   "id": "f691b555",
   "metadata": {},
   "outputs": [
    {
     "name": "stderr",
     "output_type": "stream",
     "text": [
      "                                                                                \r"
     ]
    },
    {
     "data": {
      "text/plain": [
       "[('flight_id', 'int'),\n",
       " ('carrier_code', 'string'),\n",
       " ('flight_number', 'int'),\n",
       " ('flight_date', 'timestamp'),\n",
       " ('origin', 'string'),\n",
       " ('destination', 'string'),\n",
       " ('tail_number', 'string'),\n",
       " ('scheduled_depature_time', 'timestamp'),\n",
       " ('scheduled_arrival_time', 'string'),\n",
       " ('actual_departure_time', 'string'),\n",
       " ('actual_arrival_time', 'string'),\n",
       " ('distance', 'int')]"
      ]
     },
     "execution_count": 48,
     "metadata": {},
     "output_type": "execute_result"
    }
   ],
   "source": [
    "flights = spark.read.csv(\"ontimeperformance_flights_tiny.csv\", inferSchema=True, header=True)\n",
    "flights.dtypes"
   ]
  },
  {
   "cell_type": "code",
   "execution_count": 49,
   "id": "f5728281",
   "metadata": {},
   "outputs": [],
   "source": [
    "q3_flights = flights.filter(col(\"actual_departure_time\").isNotNull() & ~isnan(col(\"actual_departure_time\")))"
   ]
  },
  {
   "cell_type": "code",
   "execution_count": 50,
   "id": "d374c665",
   "metadata": {},
   "outputs": [],
   "source": [
    "q3_flights = q3_flights.groupBy(\"tail_number\", \"carrier_code\").count()"
   ]
  },
  {
   "cell_type": "code",
   "execution_count": 51,
   "id": "9d2d9659",
   "metadata": {},
   "outputs": [
    {
     "name": "stdout",
     "output_type": "stream",
     "text": [
      "+-----------+------------+-----+\n",
      "|tail_number|carrier_code|count|\n",
      "+-----------+------------+-----+\n",
      "|     N17345|          CO|  224|\n",
      "|       N365|          WN|   94|\n",
      "|     N507DA|          DL|   90|\n",
      "|     N526UA|          UA|  232|\n",
      "|     N7441U|          UA|  145|\n",
      "+-----------+------------+-----+\n",
      "only showing top 5 rows\n",
      "\n"
     ]
    },
    {
     "name": "stderr",
     "output_type": "stream",
     "text": [
      "                                                                                \r"
     ]
    }
   ],
   "source": [
    "q3_flights.show(5)"
   ]
  },
  {
   "cell_type": "code",
   "execution_count": 52,
   "id": "8c0af3e7",
   "metadata": {},
   "outputs": [],
   "source": [
    "q3_aircrafts = aircrafts.select(\"tailnum\", \"manufacturer\", \"model\")"
   ]
  },
  {
   "cell_type": "code",
   "execution_count": 53,
   "id": "f3df83ef",
   "metadata": {},
   "outputs": [],
   "source": [
    "q3_airlines = airlines.select(col(\"carrier_code\").alias(\"al_carrier_code\"), \"name\")"
   ]
  },
  {
   "cell_type": "code",
   "execution_count": 54,
   "id": "d9ef9cb4",
   "metadata": {},
   "outputs": [],
   "source": [
    "q3_aircrafts = q3_aircrafts.select(\"tailnum\", concat(col(\"manufacturer\"), lit(\" \"), col(\"model\")).alias(\"manu_model\"))"
   ]
  },
  {
   "cell_type": "code",
   "execution_count": 55,
   "id": "3350b190",
   "metadata": {},
   "outputs": [
    {
     "name": "stdout",
     "output_type": "stream",
     "text": [
      "+-------+----------+\n",
      "|tailnum|manu_model|\n",
      "+-------+----------+\n",
      "+-------+----------+\n",
      "\n"
     ]
    }
   ],
   "source": [
    "q3_aircrafts.filter(col(\"manu_model\").isNull()).show()"
   ]
  },
  {
   "cell_type": "code",
   "execution_count": 56,
   "id": "204bcb80",
   "metadata": {},
   "outputs": [],
   "source": [
    "q3_flights = q3_flights.filter(col(\"tail_number\").isNotNull() & ~isnan(col(\"tail_number\")))"
   ]
  },
  {
   "cell_type": "code",
   "execution_count": 57,
   "id": "70cdc841",
   "metadata": {},
   "outputs": [],
   "source": [
    "# join flights with airlines\n",
    "q3_f_al = q3_flights.join(q3_airlines, q3_flights.carrier_code == q3_airlines.al_carrier_code, \"left\")"
   ]
  },
  {
   "cell_type": "code",
   "execution_count": 58,
   "id": "144f2101",
   "metadata": {},
   "outputs": [
    {
     "name": "stderr",
     "output_type": "stream",
     "text": [
      "[Stage 73:==========>                                             (3 + 13) / 16]\r"
     ]
    },
    {
     "name": "stdout",
     "output_type": "stream",
     "text": [
      "+-----------+-----+--------------------+\n",
      "|tail_number|count|                name|\n",
      "+-----------+-----+--------------------+\n",
      "|     N17345|  224|Continental Air L...|\n",
      "|       N365|   94|Southwest Airline...|\n",
      "|     N507DA|   90|Delta Air Lines Inc.|\n",
      "|     N526UA|  232|     United Airlines|\n",
      "|     N7441U|  145|     United Airlines|\n",
      "+-----------+-----+--------------------+\n",
      "only showing top 5 rows\n",
      "\n"
     ]
    },
    {
     "name": "stderr",
     "output_type": "stream",
     "text": [
      "                                                                                \r"
     ]
    }
   ],
   "source": [
    "q3_f_al = q3_f_al.select(\"tail_number\", \"count\", \"name\")\n",
    "q3_f_al.show(5)"
   ]
  },
  {
   "cell_type": "code",
   "execution_count": 59,
   "id": "1e580b01",
   "metadata": {},
   "outputs": [],
   "source": [
    "q3_final_join = q3_f_al.join(broadcast(q3_aircrafts), q3_f_al.tail_number == q3_aircrafts.tailnum, \"left\")"
   ]
  },
  {
   "cell_type": "code",
   "execution_count": 60,
   "id": "06a40f1e",
   "metadata": {},
   "outputs": [],
   "source": [
    "q3_final_join = q3_final_join.groupBy(\"name\", \"manu_model\")\\\n",
    "                                .agg(sum(col(\"count\")).alias(\"num_flights\"))"
   ]
  },
  {
   "cell_type": "code",
   "execution_count": 61,
   "id": "cf828afe",
   "metadata": {},
   "outputs": [],
   "source": [
    "q3_final_join = q3_final_join.filter(col(\"manu_model\").isNotNull())"
   ]
  },
  {
   "cell_type": "code",
   "execution_count": 62,
   "id": "10579191",
   "metadata": {},
   "outputs": [
    {
     "name": "stderr",
     "output_type": "stream",
     "text": [
      "[Stage 76:==========>                                             (3 + 13) / 16]\r"
     ]
    },
    {
     "name": "stdout",
     "output_type": "stream",
     "text": [
      "+--------------------+--------------------+-----------+\n",
      "|                name|          manu_model|num_flights|\n",
      "+--------------------+--------------------+-----------+\n",
      "|          US Airways|      BOEING 737-3B7|        933|\n",
      "|Northwest Airline...|AIRBUS INDUSTRIE ...|       3756|\n",
      "|Skywest Airlines ...|     EMBRAER EMB-120|        914|\n",
      "|Alaska Airlines Inc.|      BOEING 737-8FH|         30|\n",
      "|Frontier Airlines...|     AIRBUS A319-111|       4141|\n",
      "+--------------------+--------------------+-----------+\n",
      "only showing top 5 rows\n",
      "\n"
     ]
    },
    {
     "name": "stderr",
     "output_type": "stream",
     "text": [
      "                                                                                \r"
     ]
    }
   ],
   "source": [
    "q3_final_join.show(5)"
   ]
  },
  {
   "cell_type": "code",
   "execution_count": 63,
   "id": "207dce4e",
   "metadata": {},
   "outputs": [],
   "source": [
    "q3_final_join = q3_final_join.select(\"name\", \"num_flights\", \"manu_model\", \\\n",
    "                                     rank().over(Window.partitionBy(\"name\")\\\n",
    "                                            .orderBy(col(\"num_flights\").desc()))\\\n",
    "                                            .alias(\"rank\")).filter(col(\"rank\") <= 5)"
   ]
  },
  {
   "cell_type": "code",
   "execution_count": 64,
   "id": "a4009b5f",
   "metadata": {},
   "outputs": [],
   "source": [
    "q3_final_join = q3_final_join.select(\"name\", \"manu_model\").groupBy(\"name\").agg(collect_list(\"manu_model\"))"
   ]
  },
  {
   "cell_type": "code",
   "execution_count": 65,
   "id": "2ba8cadb",
   "metadata": {},
   "outputs": [
    {
     "name": "stderr",
     "output_type": "stream",
     "text": [
      "[Stage 85:====================================================>   (15 + 1) / 16]\r"
     ]
    },
    {
     "name": "stdout",
     "output_type": "stream",
     "text": [
      "+----------------------------+---------------------------------------------------------------------------------------------------------------------------------------+\n",
      "|name                        |collect_list(manu_model)                                                                                                               |\n",
      "+----------------------------+---------------------------------------------------------------------------------------------------------------------------------------+\n",
      "|AirTran                     |[BOEING 717-200, BOEING 737-76N, BOEING 737-7BD]                                                                                       |\n",
      "|Alaska Airlines Inc.        |[BOEING 737-4Q8, BOEING 737-790, BOEING 737-490, MCDONNELL DOUGLAS DC-9-83(MD-83), BOEING 737-990]                                     |\n",
      "|American Airlines Inc.      |[MCDONNELL DOUGLAS DC-9-82(MD-82), MCDONNELL DOUGLAS DC-9-83(MD-83), BOEING 757-223, BOEING 767-223, BOEING 767-323]                   |\n",
      "|American Eagle Airlines Inc.|[EMBRAER EMB-145LR, EMBRAER EMB-135KL, BOMBARDIER INC CL-600-2C10, SAAB-SCANIA SAAB 340B, EMBRAER EMB-135LR]                           |\n",
      "|Atlantic Southeast Airlines |[BOMBARDIER INC CL-600-2B19, BOMBARDIER INC CL-600-2C10, CANADAIR CL-600-2B19, AEROSPATIALE/ALENIA ATR-72-212, AEROSPATIALE ATR 72-212]|\n",
      "+----------------------------+---------------------------------------------------------------------------------------------------------------------------------------+\n",
      "only showing top 5 rows\n",
      "\n"
     ]
    },
    {
     "name": "stderr",
     "output_type": "stream",
     "text": [
      "                                                                                \r"
     ]
    }
   ],
   "source": [
    "q3_final_join.show(5, truncate=False)"
   ]
  },
  {
   "cell_type": "code",
   "execution_count": 66,
   "id": "238c9f59",
   "metadata": {},
   "outputs": [],
   "source": [
    "def q3_parse(li):\n",
    "    for i in li:\n",
    "        yield f\"{i[0]} \\t [{', '.join(i[1])}]\""
   ]
  },
  {
   "cell_type": "code",
   "execution_count": 67,
   "id": "3efa08d8",
   "metadata": {},
   "outputs": [
    {
     "name": "stdout",
     "output_type": "stream",
     "text": [
      "AirTran \t [BOEING 717-200, BOEING 737-76N, BOEING 737-7BD]\n",
      "Alaska Airlines Inc. \t [BOEING 737-4Q8, BOEING 737-790, BOEING 737-490, MCDONNELL DOUGLAS DC-9-83(MD-83), BOEING 737-990]\n",
      "American Airlines Inc. \t [MCDONNELL DOUGLAS DC-9-82(MD-82), MCDONNELL DOUGLAS DC-9-83(MD-83), BOEING 757-223, BOEING 767-223, BOEING 767-323]\n",
      "American Eagle Airlines Inc. \t [EMBRAER EMB-145LR, EMBRAER EMB-135KL, BOMBARDIER INC CL-600-2C10, SAAB-SCANIA SAAB 340B, EMBRAER EMB-135LR]\n",
      "Atlantic Southeast Airlines \t [BOMBARDIER INC CL-600-2B19, BOMBARDIER INC CL-600-2C10, CANADAIR CL-600-2B19, AEROSPATIALE/ALENIA ATR-72-212, AEROSPATIALE ATR 72-212]\n",
      "Comair \t [BOMBARDIER INC CL-600-2B19, CANADAIR CL-600-2B19, BOMBARDIER INC CL-600-2C10, BOMBARDIER INC CL600-2D24, PIPER PA-28-180]\n",
      "Continental Air Lines Inc. \t [BOEING 737-524, BOEING 737-3TO, BOEING 737-824, BOEING 757-224, BOEING 737-724]\n",
      "Delta Air Lines Inc. \t [MCDONNELL DOUGLAS AIRCRAFT CO MD-88, BOEING 757-232, BOEING 767-332, BOEING 737-832, MCDONNELL DOUGLAS CORPORATION MD-88]\n",
      "Frontier Airlines Inc. \t [AIRBUS A319-111, AIRBUS A318-111, AIRBUS A319-112, AIRBUS INDUSTRIE A319-111, AIRBUS INDUSTRIE A319-112]\n",
      "Hawaiian Airlines Inc. \t [BOEING 767-33A, BOEING 767-3G5, BOEING 767-3CB, BOEING 767-332]\n",
      "Independence Air \t [BOMBARDIER INC CL-600-2B19]\n",
      "JetBlue Airways \t [AIRBUS A320-232, AIRBUS INDUSTRIE A320-232, EMBRAER ERJ 190-100 IGW]\n",
      "JetSuite Air \t [EMBRAER EMB-145LR, EMBRAER EMB-145XR, EMBRAER EMB-145EP, EMBRAER EMB-135LR, EMBRAER EMB-135ER]\n",
      "Mesa Airlines Inc. \t [BOMBARDIER INC CL600-2D24, DEHAVILLAND DHC-8-202, BOMBARDIER INC CL-600-2B19, BOMBARDIER INC CL-600-2C10, CANADAIR CL-600-2B19]\n",
      "Northwest Airlines Inc. \t [MCDONNELL DOUGLAS DC-9-51, BOEING 757-251, AIRBUS INDUSTRIE A320-212, DOUGLAS DC-9-31, AIRBUS INDUSTRIE A320-211]\n",
      "PSA Airlines Inc. \t [BOMBARDIER INC CL-600-2B19, CANADAIR CL-600-2B19, BOMBARDIER INC CL-600-2C10, BOMBARDIER INC CL600-2D24, PIPER PA-28-180]\n",
      "Skywest Airlines Inc. \t [BOMBARDIER INC CL-600-2B19, EMBRAER EMB-120ER, BOMBARDIER INC CL-600-2C10, EMBRAER EMB-120, CANADAIR CL-600-2B19]\n",
      "Southwest Airlines Co. \t [BOEING 737-7H4, BOEING 737-3H4, BOEING 737-5H4, BOEING 737-3Q8, BOEING 737-3A4]\n",
      "Sparrow Aviation \t [BOEING 737-3G7, AIRBUS INDUSTRIE A320-231, AIRBUS INDUSTRIE A320-232, AIRBUS INDUSTRIE A319-132, BOEING 757-2S7]\n",
      "Tway Air \t [BOEING 757-2Q8, BOEING 757-231]\n",
      "US Airways \t [AIRBUS INDUSTRIE A319-132, AIRBUS INDUSTRIE A320-232, BOEING 737-3G7, AIRBUS INDUSTRIE A320-231, BOEING 737-3B7]\n",
      "United Airlines \t [BOEING 757-222, BOEING 737-322, AIRBUS INDUSTRIE A320-232, BOEING 737-522, AIRBUS INDUSTRIE A319-131]\n"
     ]
    }
   ],
   "source": [
    "q3_final_li = q3_final_join.collect()\n",
    "q3_final_li.sort(key=itemgetter(0))\n",
    "for i in q3_parse(q3_final_li):\n",
    "    print(i)"
   ]
  },
  {
   "cell_type": "code",
   "execution_count": null,
   "id": "7bb0bb5f",
   "metadata": {},
   "outputs": [],
   "source": []
  }
 ],
 "metadata": {
  "kernelspec": {
   "display_name": "Python 3 (ipykernel)",
   "language": "python",
   "name": "python3"
  },
  "language_info": {
   "codemirror_mode": {
    "name": "ipython",
    "version": 3
   },
   "file_extension": ".py",
   "mimetype": "text/x-python",
   "name": "python",
   "nbconvert_exporter": "python",
   "pygments_lexer": "ipython3",
   "version": "3.10.6"
  }
 },
 "nbformat": 4,
 "nbformat_minor": 5
}
